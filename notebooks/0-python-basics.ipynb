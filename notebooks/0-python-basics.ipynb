{
 "cells": [
  {
   "cell_type": "markdown",
   "metadata": {},
   "source": [
    "# 0. Hello, Python! (Basic Data Types)\n",
    "\n",
    "This is a Python refresher notebook. It covers the basic data types in Python."
   ]
  },
  {
   "cell_type": "markdown",
   "metadata": {},
   "source": [
    "#complex\n",
    "complex=\n"
   ]
  },
  {
   "cell_type": "code",
   "execution_count": null,
   "metadata": {},
   "outputs": [],
   "source": [
    "# ---"
   ]
  },
  {
   "cell_type": "code",
   "execution_count": null,
   "metadata": {},
   "outputs": [],
   "source": [
    "# --- Numeric Types ---\n",
    "# Integer\n",
    "\n",
    "num = 3\n",
    "# Float\n",
    "\n",
    "\n",
    "# Complex\n",
    "\n",
    "\n",
    "# --- String and Character ---\n",
    "# String\n",
    "\n",
    "\n",
    "# Character (In Python, a single character is just a string of length 1)\n",
    "\n",
    "\n",
    "# --- Boolean ---\n",
    "# Boolean values\n",
    "\n",
    "\n",
    "# --- Arrays (Lists) ---\n",
    "# List\n",
    "\n",
    "\n",
    "# Accessing list elements\n",
    "\n",
    "\n",
    "# Adding to a list\n",
    "\n",
    "\n",
    "# --- Objects (using classes) ---\n",
    "\n",
    "\n",
    "# Create an object of the Person class\n",
    "\n",
    "\n",
    "# --- Type Conversion ---\n",
    "# Convert integer to float\n",
    "\n",
    "\n",
    "# Convert float to integer (truncates the decimal part)\n",
    "\n",
    "\n",
    "# Convert boolean to integer\n",
    "\n",
    "\n",
    "# --- Type Checking ---\n"
   ]
  },
  {
   "cell_type": "markdown",
   "metadata": {},
   "source": [
    "# 1. Hello, World! (First Program)\n",
    "\n",
    "This is a simple introduction to Python syntax and the print() function."
   ]
  },
  {
   "cell_type": "code",
   "execution_count": 11,
   "metadata": {},
   "outputs": [
    {
     "data": {
      "text/plain": [
       "0"
      ]
     },
     "execution_count": 11,
     "metadata": {},
     "output_type": "execute_result"
    }
   ],
   "source": [
    "from os import read\n",
    "\n",
    "\n",
    "class Food: \n",
    "    def __init__(self, name = 'apple' ,color = \"red\" ,size = 0 , price = 0):\n",
    "        self.name= name\n",
    "        self.color= color\n",
    "        self.size=size \n",
    "        self.price=price\n",
    "        self.quantity= 1\n",
    "\n",
    "    def printinfo(self):\n",
    "        if self.name == '':\n",
    "            print(\"I am nothing\")\n",
    "    \n",
    "        else :\n",
    "            print(\"I am  a\", self.name)\n",
    "            print(f\"I am a{self.name}.\")\n",
    "f1 = Food()\n",
    "f2 = Food(\"banana\")\n",
    "f3 = Food('orange', 'orange')\n",
    "f4 = Food('grape', size = 3)\n",
    "f5 = Food ('pear', 3)\n",
    "f5.price"
   ]
  },
  {
   "cell_type": "markdown",
   "metadata": {},
   "source": [
    "# 2. Basic Math Operations\n",
    "\n",
    "Introduce variables and arithmetic operators."
   ]
  },
  {
   "cell_type": "markdown",
   "metadata": {},
   "source": []
  },
  {
   "cell_type": "markdown",
   "metadata": {},
   "source": [
    "# 3. Getting User Input\n",
    "\n",
    "Demonstrates how to interact with the user via input()."
   ]
  },
  {
   "cell_type": "code",
   "execution_count": 17,
   "metadata": {},
   "outputs": [],
   "source": [
    "# Getting user\n",
    "name = input(\"What's your name? >>> \")\n",
    "print(\"Hello \" + name + \"!\")\n",
    "\n",
    "# Working with numbers\n",
    "age = input(\"How old you? >>> \") # String \n",
    "print(\"Next year , you will be \" + str(int(age) + 1) + \"!\")\n"
   ]
  },
  {
   "cell_type": "markdown",
   "metadata": {},
   "source": [
    "# 4. If Statements (Conditionals)\n",
    "\n",
    "Introduce the concept of decision-making using if, else, and elif."
   ]
  },
  {
   "cell_type": "code",
   "execution_count": null,
   "metadata": {},
   "outputs": [],
   "source": [
    "# Basic if-else example\n",
    "number = int(input(\"Enter a number: >>>\"))\n",
    "\n",
    "if number > 0:\n",
    "    print(\"You are positive!\")\n",
    "\n",
    "    if number % 2 == 0:\n",
    "        print(\"You are even!\")\n",
    "    else:\n",
    "        print(\"You are odd\")\n",
    "else:\n",
    "    print(\"You are negative!\")\n",
    "\n"
   ]
  },
  {
   "cell_type": "markdown",
   "metadata": {},
   "source": [
    "# 5. For Loop (Iteration)\n",
    "\n",
    "A basic introduction to loops with a for loop that repeats a certain number of times."
   ]
  },
  {
   "cell_type": "code",
   "execution_count": 16,
   "metadata": {},
   "outputs": [
    {
     "ename": "SyntaxError",
     "evalue": "invalid syntax (4115398273.py, line 2)",
     "output_type": "error",
     "traceback": [
      "\u001b[0;36m  Cell \u001b[0;32mIn[16], line 2\u001b[0;36m\u001b[0m\n\u001b[0;31m    For  x in range(10, 20, 2)\u001b[0m\n\u001b[0m         ^\u001b[0m\n\u001b[0;31mSyntaxError\u001b[0m\u001b[0;31m:\u001b[0m invalid syntax\n"
     ]
    }
   ],
   "source": [
    "# Basic for loop example\n",
    "For  x in range(10, 20, 2)\n",
    "     print(\"Loop iteration\", x/2)\n"
   ]
  },
  {
   "cell_type": "markdown",
   "metadata": {},
   "source": [
    "# 6. While Loop (Iteration with Condition)\n",
    "\n",
    "Demonstrates a loop that runs until a condition is met."
   ]
  },
  {
   "cell_type": "code",
   "execution_count": null,
   "metadata": {},
   "outputs": [],
   "source": [
    "# Basic while loop example\n",
    "# For loops need:\n",
    "#   1. Start point\n",
    "#   2. end point (condition)\n",
    "#   3. step"
   ]
  },
  {
   "cell_type": "markdown",
   "metadata": {},
   "source": [
    "# 7. Basic Function Example\n",
    "\n",
    "Introducing how to write and call functions."
   ]
  },
  {
   "cell_type": "code",
   "execution_count": null,
   "metadata": {},
   "outputs": [],
   "source": [
    "# Function to greet the user\n"
   ]
  },
  {
   "cell_type": "markdown",
   "metadata": {},
   "source": [
    "# 8. Simple Temperature Converter\n",
    "\n",
    "Combines input, conditionals, and functions in a real-world example."
   ]
  },
  {
   "cell_type": "code",
   "execution_count": null,
   "metadata": {},
   "outputs": [],
   "source": [
    "# Function to convert Celsius to Fahrenheit\n",
    "\n",
    "\n",
    "# Get temperature from user\n"
   ]
  },
  {
   "cell_type": "markdown",
   "metadata": {},
   "source": [
    "# 9. Simple Guessing Game\n",
    "\n",
    "A fun exercise that involves loops, conditionals, and randomness."
   ]
  },
  {
   "cell_type": "code",
   "execution_count": null,
   "metadata": {},
   "outputs": [],
   "source": [
    "\n",
    "# Generate a random number between 1 and 10\n",
    "\n",
    "\n",
    "# Keep asking the user until they guess correctly\n"
   ]
  },
  {
   "cell_type": "markdown",
   "metadata": {},
   "source": [
    "# 10. FizzBuzz (Classic Example)\n",
    "\n",
    "A popular coding challenge that helps beginners practice conditionals and loops.\n",
    "\n",
    "**Problem Statement:**\n",
    "\n",
    "Print numbers from 1 to n, where n is a positive integer. For each number:\n",
    "\n",
    "- Print \"Fizz\" if the number is divisible by 3.\n",
    "- Print \"Buzz\" if the number is divisible by 5.\n",
    "- Print \"FizzBuzz\" if the number is divisible by both 3 and 5.\n",
    "- Print the number itself if it is not divisible by either 3 or 5."
   ]
  },
  {
   "cell_type": "code",
   "execution_count": null,
   "metadata": {},
   "outputs": [],
   "source": [
    "# FizzBuzz example\n"
   ]
  },
  {
   "cell_type": "markdown",
   "metadata": {},
   "source": [
    "# Bonus: Recursive Fibonacci Function\n",
    "\n",
    "A more advanced example that demonstrates recursion."
   ]
  },
  {
   "cell_type": "code",
   "execution_count": null,
   "metadata": {},
   "outputs": [],
   "source": [
    "def fibonacci(n):\n",
    "    # Base cases\n",
    "\n",
    "        # Recursive case: F(n) = F(n-1) + F(n-2)\n",
    "        \n",
    "\n",
    "# Example usage\n"
   ]
  },
  {
   "cell_type": "code",
   "execution_count": null,
   "metadata": {},
   "outputs": [],
   "source": []
  }
 ],
 "metadata": {
  "kernelspec": {
   "display_name": "Python 3",
   "language": "python",
   "name": "python3"
  },
  "language_info": {
   "codemirror_mode": {
    "name": "ipython",
    "version": 3
   },
   "file_extension": ".py",
   "mimetype": "text/x-python",
   "name": "python",
   "nbconvert_exporter": "python",
   "pygments_lexer": "ipython3",
   "version": "3.12.1"
  }
 },
 "nbformat": 4,
 "nbformat_minor": 2
}
